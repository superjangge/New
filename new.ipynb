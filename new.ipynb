    {
        "cell_type": "code",
        "metadata": {
         "id": "e2769b9e0005"
       },
        "source": [
          "!pip install git+https://github.com/google/starthinker\n"
        ]
      },
